{
 "cells": [
  {
   "cell_type": "code",
   "execution_count": 85,
   "metadata": {},
   "outputs": [],
   "source": [
    "import assignment_3_2 as as3_2\n",
    "import numpy as np\n",
    "import assignment_3_funcs as as3f\n",
    "from sklearn.svm import SVC"
   ]
  },
  {
   "cell_type": "code",
   "execution_count": 75,
   "metadata": {},
   "outputs": [
    {
     "name": "stdout",
     "output_type": "stream",
     "text": [
      "load_data\n"
     ]
    }
   ],
   "source": [
    "# Load from mnist\n",
    "X,y = as3_2.load_data()"
   ]
  },
  {
   "cell_type": "code",
   "execution_count": 355,
   "metadata": {},
   "outputs": [],
   "source": [
    "# Convert y from object to int\n",
    "y = np.ndarray.astype(y,int)"
   ]
  },
  {
   "cell_type": "code",
   "execution_count": 356,
   "metadata": {},
   "outputs": [
    {
     "name": "stdout",
     "output_type": "stream",
     "text": [
      "normalize mnist data\n"
     ]
    }
   ],
   "source": [
    "# Normalize data in range 0-255\n",
    "X = as3f.normalize_mnist_data(X)"
   ]
  },
  {
   "cell_type": "code",
   "execution_count": 407,
   "metadata": {},
   "outputs": [
    {
     "name": "stdout",
     "output_type": "stream",
     "text": [
      "randomize_data\n"
     ]
    }
   ],
   "source": [
    "# Num to train\n",
    "num_train = 10000\n",
    "num_test = 10000\n",
    "\n",
    "# Randomize data. Get all data and train data\n",
    "X, y, X_s, y_s = as3f.randomize_data(X, y, num_train=num_train)\n",
    "\n",
    "# Assign the first num_train rows from X\n",
    "X_s, y_s = X[:num_train, :], y[:num_train]\n",
    "\n",
    "# Assign the last num_test rows from X\n",
    "X_test, y_test = X[num_test:,:], y[num_test:]"
   ]
  },
  {
   "cell_type": "code",
   "execution_count": 408,
   "metadata": {},
   "outputs": [],
   "source": [
    "# Binaryize the labels\n",
    "\n",
    "# Get Labels\n",
    "classes = np.ndarray.astype(np.unique(y),int)\n",
    "\n",
    "# Fill matrix with zeros\n",
    "classifications=np.zeros((X_s.shape[0],classes.shape[0]))\n",
    "\n",
    "# For each label, assign row to 1 where applicable\n",
    "for c in classes:\n",
    "    classifications[:,c] = (y_s == c)"
   ]
  },
  {
   "cell_type": "code",
   "execution_count": null,
   "metadata": {},
   "outputs": [],
   "source": [
    "svms = []\n",
    "preds = []\n",
    "predsprobs = []\n",
    "for c in classes:\n",
    "    # Create SVC\n",
    "    svm = SVC(probability=True)\n",
    "    # Add to list\n",
    "    svms.append(svm)\n",
    "    # Train\n",
    "    svm.fit(X_s,classifications[:,c])\n",
    "    # Get predictions as classification\n",
    "    #pred = svm.predict(X_test)\n",
    "    # Append to list\n",
    "    #preds.append(pred)\n",
    "    # Get prediction as probability's \n",
    "    predsprob = svm.predict_proba(X_test)\n",
    "    # Add to list\n",
    "    predsprobs.append(predsprob)\n",
    "    "
   ]
  },
  {
   "cell_type": "code",
   "execution_count": 399,
   "metadata": {},
   "outputs": [
    {
     "name": "stdout",
     "output_type": "stream",
     "text": [
      "(10000, 10)\n",
      "(10000,)\n",
      "[2 2 0 ... 4 1 3]\n",
      "[2 2 0 ... 4 1 3]\n",
      "[ True  True  True ...  True  True  True]\n",
      "9099\n",
      "0.9099\n"
     ]
    }
   ],
   "source": [
    "predictionsmatrix = np.array(predsprobs)[:,:,1].T\n",
    "print(predictionsmatrix.shape)\n",
    "np.argmax(predictionsmatrix,0)\n",
    "print(np.argmax(predictionsmatrix,1).shape)\n",
    "print(np.argmax(predictionsmatrix,1))\n",
    "print(y_test)\n",
    "print(y_test == np.argmax(predictionsmatrix,1))\n",
    "print(np.sum(y_test == np.argmax(predictionsmatrix,1)))\n",
    "print(np.sum(y_test == np.argmax(predictionsmatrix,1))/y_test.shape[0])\n",
    "#print(predictionsmatrix,\"\\n\\n\")\n",
    "#print(np.argmax(predictionsmatrix,1),\"\\n\\n\")\n",
    "#print(predictionsmatrix[:,np.argmax(predictionsmatrix,1)])\n",
    "#print(predictionsmatrix[1,5123])"
   ]
  },
  {
   "cell_type": "code",
   "execution_count": null,
   "metadata": {},
   "outputs": [],
   "source": []
  },
  {
   "cell_type": "code",
   "execution_count": null,
   "metadata": {},
   "outputs": [],
   "source": []
  },
  {
   "cell_type": "code",
   "execution_count": null,
   "metadata": {},
   "outputs": [],
   "source": []
  },
  {
   "cell_type": "code",
   "execution_count": null,
   "metadata": {},
   "outputs": [],
   "source": []
  }
 ],
 "metadata": {
  "environment": {
   "name": "common-cpu.m47",
   "type": "gcloud",
   "uri": "gcr.io/deeplearning-platform-release/base-cpu:m47"
  },
  "kernelspec": {
   "display_name": "Python 3",
   "language": "python",
   "name": "python3"
  },
  "language_info": {
   "codemirror_mode": {
    "name": "ipython",
    "version": 3
   },
   "file_extension": ".py",
   "mimetype": "text/x-python",
   "name": "python",
   "nbconvert_exporter": "python",
   "pygments_lexer": "ipython3",
   "version": "3.7.7"
  }
 },
 "nbformat": 4,
 "nbformat_minor": 4
}
