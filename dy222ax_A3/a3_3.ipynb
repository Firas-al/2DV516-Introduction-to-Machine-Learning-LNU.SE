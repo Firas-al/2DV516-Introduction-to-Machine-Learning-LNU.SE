{
 "cells": [
  {
   "cell_type": "code",
   "execution_count": 1,
   "metadata": {},
   "outputs": [],
   "source": [
    "import a3_3"
   ]
  },
  {
   "cell_type": "code",
   "execution_count": 3,
   "metadata": {},
   "outputs": [
    {
     "name": "stdout",
     "output_type": "stream",
     "text": [
      "\n",
      "A3, Ex3.3\n",
      "\n",
      "RandomForestRegressor default\n",
      "Train MSE 63.25441813563459\n",
      "Test MSE 4620.183099250001\n",
      "\n",
      "RandomForestRegressor tuned {'max_depth': 9, 'n_jobs': -1, 'random_state': 42}\n",
      "Train MSE 114.30317310926141\n",
      "Test MSE 4534.8139323083415\n"
     ]
    }
   ],
   "source": [
    "a3_3.ex_3_3()"
   ]
  },
  {
   "cell_type": "code",
   "execution_count": null,
   "metadata": {},
   "outputs": [
    {
     "name": "stdout",
     "output_type": "stream",
     "text": [
      "\n",
      "A3, Ex3.3 tuning\n"
     ]
    }
   ],
   "source": [
    "# Params for Grid Search\n",
    "a3_3.ex_3_3_tuning({\"max_depth\":[9,10,11,12,13,14],\"random_state\":[42],\"n_jobs\":[-1]})\n",
    "    "
   ]
  },
  {
   "cell_type": "code",
   "execution_count": null,
   "metadata": {},
   "outputs": [],
   "source": []
  }
 ],
 "metadata": {
  "environment": {
   "name": "common-cpu.m47",
   "type": "gcloud",
   "uri": "gcr.io/deeplearning-platform-release/base-cpu:m47"
  },
  "kernelspec": {
   "display_name": "Python 3",
   "language": "python",
   "name": "python3"
  },
  "language_info": {
   "codemirror_mode": {
    "name": "ipython",
    "version": 3
   },
   "file_extension": ".py",
   "mimetype": "text/x-python",
   "name": "python",
   "nbconvert_exporter": "python",
   "pygments_lexer": "ipython3",
   "version": "3.7.6"
  }
 },
 "nbformat": 4,
 "nbformat_minor": 4
}
